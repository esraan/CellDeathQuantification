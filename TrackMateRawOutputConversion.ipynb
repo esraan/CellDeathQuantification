{
 "cells": [
  {
   "cell_type": "code",
   "execution_count": 1,
   "metadata": {
    "collapsed": true
   },
   "outputs": [],
   "source": [
    "import numpy as np\n",
    "import pandas as pd\n",
    "import matplotlib.pyplot as plt"
   ]
  },
  {
   "cell_type": "code",
   "execution_count": 22,
   "outputs": [
    {
     "name": "stderr",
     "output_type": "stream",
     "text": [
      "/var/folders/ht/39cw5_7x2fd3jp_n3yprx9vc0000gn/T/ipykernel_26902/568191312.py:2: DtypeWarning: Columns (1,2,3,4,5,6,7,8,9,10,11,12,13,14,15,16,17,18,19) have mixed types. Specify dtype option on import or set low_memory=False.\n",
      "  raw_spots_df = pd.read_csv(raw_spots_path)\n"
     ]
    }
   ],
   "source": [
    "raw_spots_path = \"/Users/yishaiazabary/Downloads/ML_Sytox1_TIFF_Stack/ML_Sytox1_RawTrackmateOutputSpotsCoordinates.csv\"\n",
    "raw_spots_df = pd.read_csv(raw_spots_path)"
   ],
   "metadata": {
    "collapsed": false,
    "pycharm": {
     "name": "#%%\n"
    }
   }
  },
  {
   "cell_type": "code",
   "execution_count": 28,
   "outputs": [
    {
     "data": {
      "text/plain": "ID            string\nTRACK_ID      string\nPOSITION_X     Int64\nPOSITION_Y     Int64\nFRAME          Int64\ndtype: object"
     },
     "execution_count": 28,
     "metadata": {},
     "output_type": "execute_result"
    }
   ],
   "source": [
    "raw_spots_min_columns = raw_spots_df.loc[3:, ['ID', 'TRACK_ID', 'POSITION_X', 'POSITION_Y', 'FRAME', ]]\n",
    "raw_spots_min_columns_correct_dtypes = raw_spots_min_columns.copy()\n",
    "for col in ('ID', 'TRACK_ID'):\n",
    "    raw_spots_min_columns_correct_dtypes[col] = raw_spots_min_columns_correct_dtypes[col].astype(str)\n",
    "\n",
    "for col in ('POSITION_X', 'POSITION_Y', 'FRAME'):\n",
    "    raw_spots_min_columns_correct_dtypes[col] = raw_spots_min_columns_correct_dtypes[col].astype(float)\n",
    "\n",
    "raw_spots_min_columns_correct_dtypes = raw_spots_min_columns_correct_dtypes.convert_dtypes()\n",
    "raw_spots_min_columns_correct_dtypes.dtypes"
   ],
   "metadata": {
    "collapsed": false,
    "pycharm": {
     "name": "#%%\n"
    }
   }
  },
  {
   "cell_type": "code",
   "execution_count": 34,
   "outputs": [],
   "source": [
    "spots_min_columns_correct_dtypes_sorted_by_time = raw_spots_min_columns_correct_dtypes.sort_values(by=['FRAME'])\n",
    "spots_min_columns_correct_dtypes_no_duplicates = spots_min_columns_correct_dtypes_sorted_by_time.drop_duplicates(subset=['TRACK_ID'], keep='first')"
   ],
   "metadata": {
    "collapsed": false,
    "pycharm": {
     "name": "#%%\n"
    }
   }
  },
  {
   "cell_type": "code",
   "execution_count": 37,
   "outputs": [],
   "source": [
    "experiment_xyt_df = spots_min_columns_correct_dtypes_no_duplicates[ ['POSITION_X', 'POSITION_Y', 'FRAME']].copy()\n",
    "experiment_xyt_df.rename(columns = {\n",
    "    'POSITION_X':'cell_x',\n",
    "    'POSITION_Y':'cell_y',\n",
    "    'FRAME':'death_time'\n",
    "}, inplace=True)"
   ],
   "metadata": {
    "collapsed": false,
    "pycharm": {
     "name": "#%%\n"
    }
   }
  }
 ],
 "metadata": {
  "kernelspec": {
   "display_name": "Python 3",
   "language": "python",
   "name": "python3"
  },
  "language_info": {
   "codemirror_mode": {
    "name": "ipython",
    "version": 2
   },
   "file_extension": ".py",
   "mimetype": "text/x-python",
   "name": "python",
   "nbconvert_exporter": "python",
   "pygments_lexer": "ipython2",
   "version": "2.7.6"
  }
 },
 "nbformat": 4,
 "nbformat_minor": 0
}